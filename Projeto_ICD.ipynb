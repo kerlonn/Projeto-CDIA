{
  "nbformat": 4,
  "nbformat_minor": 0,
  "metadata": {
    "colab": {
      "provenance": [],
      "include_colab_link": true
    },
    "kernelspec": {
      "name": "python3",
      "display_name": "Python 3"
    },
    "language_info": {
      "name": "python"
    }
  },
  "cells": [
    {
      "cell_type": "markdown",
      "metadata": {
        "id": "view-in-github",
        "colab_type": "text"
      },
      "source": [
        "<a href=\"https://colab.research.google.com/github/kerlonn/Projeto-CDIA/blob/main/Projeto_ICD.ipynb\" target=\"_parent\"><img src=\"https://colab.research.google.com/assets/colab-badge.svg\" alt=\"Open In Colab\"/></a>"
      ]
    },
    {
      "cell_type": "code",
      "source": [
        "import pandas as pd\n",
        "import numpy as np\n",
        "import matplotlib.pyplot as plt\n",
        "import seaborn as sns\n",
        "from google.colab import drive"
      ],
      "metadata": {
        "id": "Ui-XJI8Qv7ss"
      },
      "execution_count": null,
      "outputs": []
    },
    {
      "cell_type": "code",
      "source": [
        "# Montar o Google Drive\n",
        "drive.mount('/content/drive')"
      ],
      "metadata": {
        "id": "gMKrGTRKykU2",
        "colab": {
          "base_uri": "https://localhost:8080/"
        },
        "outputId": "29c479ec-4070-4152-fee3-97cb7ea6c50e"
      },
      "execution_count": null,
      "outputs": [
        {
          "output_type": "stream",
          "name": "stdout",
          "text": [
            "Mounted at /content/drive\n"
          ]
        }
      ]
    },
    {
      "cell_type": "code",
      "source": [
        "# Caminho para o arquivo CSV no Google Drive\n",
        "file_path = '/content/sample_data/GCB2022v27_MtCO2_flat.csv'  # Se não funcionar veja se o caminho esta certo."
      ],
      "metadata": {
        "id": "rhA6DsBUEEbm"
      },
      "execution_count": null,
      "outputs": []
    },
    {
      "cell_type": "code",
      "source": [
        "# Função para carregar, preparar e limpar o DataFrame\n",
        "def load_and_clean_data(file_name):\n",
        "    # Carrega o arquivo CSV no DataFrame\n",
        "    df = pd.read_csv(file_name)\n",
        "\n",
        "    # Remove apenas as linhas onde a coluna 'Total' possui valores NaN ou 0\n",
        "    df_cleaned = df[df['Total'].notna() & (df['Total'] > 0)]\n",
        "\n",
        "    # Retorna o DataFrame limpo\n",
        "    return df_cleaned\n"
      ],
      "metadata": {
        "id": "9QTqv6onEGbn"
      },
      "execution_count": null,
      "outputs": []
    },
    {
      "cell_type": "code",
      "source": [
        "# Atribui o Dataframe filtrado para uma variável\n",
        "df_cleaned = load_and_clean_data(file_path)\n",
        "# Exibe as 10 primeiras linhas\n",
        "df_cleaned.head(10)"
      ],
      "metadata": {
        "id": "bDvz0SaiEM_w"
      },
      "execution_count": null,
      "outputs": []
    },
    {
      "cell_type": "code",
      "source": [
        "# Filtrando os dados para o Brasil\n",
        "df_brazil = df_cleaned[df_cleaned['Country'] == 'Brazil']\n",
        "df_brazil"
      ],
      "metadata": {
        "id": "Yb_YFH4t0EZy"
      },
      "execution_count": null,
      "outputs": []
    },
    {
      "cell_type": "code",
      "source": [
        "# Calcular os maiores emissores, removendo o \"Global\"\n",
        "top_5_countries = df_cleaned[df_cleaned['Country'] != 'Global'].groupby(\"Country\")['Total'].max().sort_values(ascending=False).head(5)\n",
        "top_5_countries"
      ],
      "metadata": {
        "id": "7C5WXFLMH_IO"
      },
      "execution_count": null,
      "outputs": []
    },
    {
      "cell_type": "code",
      "source": [
        "# Função para calcular medidas de centralidade e dispersão\n",
        "def calculate_statistics(df):\n",
        "    stats = df.describe()  # Calcula estatísticas básicas\n",
        "    iqr = df.quantile(0.75) - df.quantile(0.25)  # Intervalo Interquartil (IQR)\n",
        "    stats.loc['IQR'] = iqr # Adiciona o valor do IQR como uma nova linha (IQR) ao DataFrame stats gerado por describe().\n",
        "    return stats"
      ],
      "metadata": {
        "id": "zB5864j6IBt0"
      },
      "execution_count": null,
      "outputs": []
    },
    {
      "cell_type": "code",
      "source": [
        "# Calcular medidas de centralidade e dispersão para cada dataset\n",
        "cleaned_stats = calculate_statistics(df_cleaned[['Total', 'Coal', 'Oil', 'Gas', 'Cement', 'Flaring', 'Other', 'Per Capita']])\n",
        "brazil_stats = calculate_statistics(df_brazil[['Total', 'Coal', 'Oil', 'Gas', 'Cement', 'Flaring', 'Other', 'Per Capita']])\n",
        "top_emitters_stats = calculate_statistics(df_top_emitters[['Total', 'Coal', 'Oil', 'Gas', 'Cement', 'Flaring', 'Other', 'Per Capita']])\n"
      ],
      "metadata": {
        "id": "G4mpfqEhIEG4"
      },
      "execution_count": null,
      "outputs": []
    },
    {
      "cell_type": "code",
      "source": [
        "# Vizualização das medidas de centralidade e dispersão das variáveis disponíveis\n",
        "print(\"Medidas de Centralidade e Dispersão - Dados Globais (df_cleaned)\")\n",
        "print(cleaned_stats)\n",
        "print(\"\\n\\nEstatísticas Descritivas dos Cinco Maiores Emissores (df_top_emitters):\")\n",
        "print(top_emitters_stats.describe())\n",
        "print(\"\\nMedidas de Centralidade e Dispersão - Brasil (df_brazil):\")\n",
        "print(brazil_stats.head())\n",
        "\n"
      ],
      "metadata": {
        "id": "rAa1vGxLIFJQ"
      },
      "execution_count": null,
      "outputs": []
    },
    {
      "cell_type": "code",
      "source": [
        "# Função para criar gráficos de barras\n",
        "def create_bar_plot(df):\n",
        "    plt.figure(figsize=(15, 6))  # Aumentar a largura do gráfico\n",
        "    sns.barplot(x='Country', y='Total', data=df)\n",
        "    plt.title('Emissões Totais de Carbono por País')\n",
        "    plt.xticks(rotation=90, ha='right')\n",
        "    plt.ylabel('Emissões Totais')\n",
        "    plt.xlabel('País')\n",
        "    plt.tight_layout()\n",
        "    plt.subplots_adjust(bottom=0.8)  # Aumentar o espaço na parte inferior\n",
        "    plt.show()"
      ],
      "metadata": {
        "id": "qYHt9G2YyVZw"
      },
      "execution_count": null,
      "outputs": []
    },
    {
      "cell_type": "code",
      "source": [
        "## Criação do boxplot do Brazil\n",
        "# Filtragem dos dados do Brasil para remover colunas não numéricas ou com valores inválidos\n",
        "df_brazil_numeric = df_brazil[['Total', 'Coal', 'Oil', 'Gas', 'Cement', 'Flaring', 'Other', 'Per Capita']].apply(pd.to_numeric, errors='coerce')\n",
        "\n",
        "# Remover colunas que possuem apenas valores NaN após a conversão\n",
        "df_brazil_numeric_cleaned = df_brazil_numeric.dropna(axis=1, how='all')\n",
        "\n",
        "# Gerar o boxplot para o dataset filtrado de dados do Brasil\n",
        "create_boxplots(df_brazil_numeric_cleaned, 'Brasil - Emissões de CO₂ (Variáveis Numéricas Filtradas)')\n"
      ],
      "metadata": {
        "id": "mx45kho-I17p"
      },
      "execution_count": null,
      "outputs": []
    },
    {
      "cell_type": "code",
      "source": [
        "## Função teste\n",
        "\n",
        "# Função para filtrar e criar boxplots, removendo a coluna 'Year' e ajustando o eixo Y\n",
        "def create_filtered_boxplot(df, title, y_limit=None):\n",
        "    # Remover a coluna 'Year' se estiver presente\n",
        "    if 'Year' in df.columns:\n",
        "        df = df.drop(columns=['Year'])\n",
        "\n",
        "    # Filtrar apenas colunas numéricas e converter valores inválidos para NaN\n",
        "    df_numeric = df.apply(pd.to_numeric, errors='coerce')\n",
        "\n",
        "    # Remover colunas que possuem apenas valores NaN\n",
        "    df_numeric_cleaned = df_numeric.dropna(axis=1, how='all')\n",
        "\n",
        "    # Gerar o boxplot\n",
        "    plt.figure(figsize=(14, 8))\n",
        "    df_numeric_cleaned.boxplot()\n",
        "    plt.title(title)\n",
        "    plt.xticks(rotation=45)\n",
        "    plt.ylabel('Emissões de CO₂')\n",
        "\n",
        "    # Definir o limite do eixo Y, se fornecido\n",
        "    if y_limit:\n",
        "        plt.ylim(y_limit)\n",
        "\n",
        "    plt.grid(True)\n",
        "    plt.show()\n",
        "\n",
        "# Testar a função ajustada nos três datasets\n",
        "# Definir um limite de eixo Y mais apropriado para o Brasil\n",
        "create_filtered_boxplot(df_brazil, 'Brasil - Emissões de CO₂ (Variáveis Numéricas Filtradas)', y_limit=(0, 500))\n",
        "\n",
        "# Aplicar o ajuste nos outros dois datasets com limite automático\n",
        "create_filtered_boxplot(df_cleaned, 'Dados Globais - Emissões de CO₂ (Variáveis Numéricas Filtradas)')\n",
        "create_filtered_boxplot(df_top_emitters, 'Cinco Maiores Emissores - Emissões de CO₂ (Variáveis Numéricas Filtradas)')\n"
      ],
      "metadata": {
        "id": "bQofA54KxYl_"
      },
      "execution_count": null,
      "outputs": []
    }
  ]
}